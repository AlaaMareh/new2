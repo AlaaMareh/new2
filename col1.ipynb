{
  "nbformat": 4,
  "nbformat_minor": 0,
  "metadata": {
    "colab": {
      "provenance": [],
      "authorship_tag": "ABX9TyM0SQEfhnYrba7RIjItsLpE"
    },
    "kernelspec": {
",
      "display_name": "Python 3"
    },
    "language_info": {
      "name": "python"
    },
    "accelerator": "TPU"
  },
  "cells": [
    {
      "cell_type": "code",
      "execution_count": null,
      "metadata": {
        "id": "o3OurYkJQdcJ"
      },
      "outputs": [],
      "source": [
        "print('alaa')"
      ]
    }
  ]
}
